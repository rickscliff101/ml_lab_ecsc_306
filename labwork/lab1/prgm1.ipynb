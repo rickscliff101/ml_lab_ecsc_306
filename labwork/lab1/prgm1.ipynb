{
 "cells": [
  {
   "cell_type": "code",
   "execution_count": 1,
   "metadata": {},
   "outputs": [
    {
     "name": "stdout",
     "output_type": "stream",
     "text": [
      "1\n"
     ]
    }
   ],
   "source": [
    "import tensorflow as tf\n",
    "#program to perform (a-b)^2\n",
    "x=8\n",
    "y=9\n",
    "\n",
    "with tf.name_scope(\"progm_1\"):\n",
    "    with tf.name_scope(\"R\"):\n",
    "        w = tf.multiply(x,x)\n",
    "        x1 = tf.multiply(y,y) \n",
    "    with tf.name_scope(\"S\"):\n",
    "        y1 = tf.multiply(2,x)\n",
    "        z = tf.multiply(y1,y)\n",
    "        \n",
    "with tf.name_scope(\"T\"):\n",
    "        r1 = tf.add(w,x1)\n",
    "        res = tf.subtract(r1,z)\n",
    "        \n",
    "\n",
    "with tf.Session() as sess:\n",
    "    writer = tf.summary.FileWriter(\"/tmp/tboard/pgm1\",sess.graph)\n",
    "    print(sess.run(res))\n",
    "    writer.close()\n",
    "        "
   ]
  }
 ],
 "metadata": {
  "kernelspec": {
   "display_name": "Python 3",
   "language": "python",
   "name": "python3"
  },
  "language_info": {
   "codemirror_mode": {
    "name": "ipython",
    "version": 3
   },
   "file_extension": ".py",
   "mimetype": "text/x-python",
   "name": "python",
   "nbconvert_exporter": "python",
   "pygments_lexer": "ipython3",
   "version": "3.6.1"
  }
 },
 "nbformat": 4,
 "nbformat_minor": 2
}
